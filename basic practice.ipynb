{
 "cells": [
  {
   "cell_type": "code",
   "execution_count": 1,
   "id": "807c705a",
   "metadata": {},
   "outputs": [
    {
     "name": "stdout",
     "output_type": "stream",
     "text": [
      "嗨\n"
     ]
    }
   ],
   "source": [
    "print(\"嗨\")"
   ]
  },
  {
   "cell_type": "code",
   "execution_count": 4,
   "id": "17bb8b7f",
   "metadata": {},
   "outputs": [
    {
     "name": "stdout",
     "output_type": "stream",
     "text": [
      "你好 \n",
      "三引號可以換行\n"
     ]
    }
   ],
   "source": [
    "print (\n",
    "\"\"\"你好 \n",
    "三引號可以換行\"\"\")"
   ]
  },
  {
   "cell_type": "code",
   "execution_count": 6,
   "id": "0e487c8f",
   "metadata": {},
   "outputs": [
    {
     "name": "stdout",
     "output_type": "stream",
     "text": [
      "加起來的話，sum of 500 and 670 is 1170\n"
     ]
    }
   ],
   "source": [
    "a=500\n",
    "b=670\n",
    "c=a+b\n",
    "print(\"加起來的話，sum of {} and {} is {}\".format(a,b,c))"
   ]
  },
  {
   "cell_type": "code",
   "execution_count": 7,
   "id": "b354daf3",
   "metadata": {},
   "outputs": [
    {
     "name": "stdout",
     "output_type": "stream",
     "text": [
      "雖然看起來很難，但這樣算起來是818.0\n"
     ]
    }
   ],
   "source": [
    "a=400\n",
    "b=1200\n",
    "c=a*2+b*6/a\n",
    "print(\"雖然看起來很難，但這樣算起來是{}\".format(c))"
   ]
  },
  {
   "cell_type": "code",
   "execution_count": 9,
   "id": "80903a86",
   "metadata": {},
   "outputs": [
    {
     "name": "stdout",
     "output_type": "stream",
     "text": [
      "Apple\n",
      "not\n",
      "3 6 old man\n",
      "5 5 5\n"
     ]
    }
   ],
   "source": [
    "a=\"Apple\"\n",
    "print(a)\n",
    "\n",
    "a=\"not\"\n",
    "print(a)\n",
    "\n",
    "b, c, d= 3, 6,\"old man\"\n",
    "print(b,c,d)\n",
    "b=c=d=5\n",
    "print(b,c,d)"
   ]
  },
  {
   "cell_type": "code",
   "execution_count": 12,
   "id": "5b81da55",
   "metadata": {},
   "outputs": [
    {
     "name": "stdout",
     "output_type": "stream",
     "text": [
      "ant\n",
      "[745, 13, '翔']\n",
      "['ant', 32, 745, 13, '翔', 'ant', 13]\n",
      "['ant', 32, 1000, 13, '翔']\n"
     ]
    }
   ],
   "source": [
    "list=['ant',32,745,13,'翔']\n",
    "list_2=['ant',13]\n",
    "print(list_2[0])\n",
    "print(list[2:5]) \n",
    "print(list + list_2) \n",
    "\n",
    "list[2]=1000\n",
    "print(list)"
   ]
  },
  {
   "cell_type": "code",
   "execution_count": 14,
   "id": "5ebc2e33",
   "metadata": {},
   "outputs": [
    {
     "name": "stdout",
     "output_type": "stream",
     "text": [
      "This is one\n",
      "This is two\n",
      "{'name': 'runoob', 'code': 6734, 'dept': 'sales'}\n",
      "dict_keys(['name', 'code', 'dept'])\n",
      "dict_values(['runoob', 6734, 'sales'])\n"
     ]
    }
   ],
   "source": [
    "dict = {}\n",
    "dict['one'] = \"This is one\"\n",
    "dict[2] = \"This is two\"\n",
    " \n",
    "tinydict = {'name': 'runoob','code':6734, 'dept': 'sales'}\n",
    " \n",
    " \n",
    "print(dict['one'])           # 输出键为'one' 的值\n",
    "print(dict[2])               # 输出键为 2 的值\n",
    "print(tinydict)              # 输出完整的字典\n",
    "print(tinydict.keys())       # 输出所有键\n",
    "print( tinydict.values())    # 输出所有值"
   ]
  },
  {
   "cell_type": "code",
   "execution_count": 15,
   "id": "d2583c97",
   "metadata": {},
   "outputs": [
    {
     "name": "stdout",
     "output_type": "stream",
     "text": [
      "teacher 21\n"
     ]
    }
   ],
   "source": [
    "#class simple concept\n",
    "#class has a name and properties\n",
    "#class includes objects\n",
    "\n",
    "class MyClass: #this class name is Myclass\n",
    "  age = 21 \n",
    "  title='teacher' #the class has 2 properties:age and title\n",
    "\n",
    "Allen = MyClass() #there is an object belongs to MyClass\n",
    "print(Allen.title, Allen.age) #print the object's property"
   ]
  },
  {
   "cell_type": "code",
   "execution_count": 6,
   "id": "b4335556",
   "metadata": {
    "scrolled": true
   },
   "outputs": [
    {
     "name": "stdout",
     "output_type": "stream",
     "text": [
      "John\n",
      "<__main__.Person object at 0x106de8350>\n"
     ]
    }
   ],
   "source": [
    "#class and __int__() function\n",
    "# 當class初始化時執行\n",
    "#此函式用來assign values to object properties 或是定義「一個object生成時的操作」\n",
    "class Person:\n",
    "  def __init__(self, name, age):\n",
    "    #This self represents the object of the class itself\n",
    "    self.name = name\n",
    "    self.age = age\n",
    "\n",
    "p1 = Person(\"John\", 36)\n",
    "\n",
    "print(p1.name) #以表格的形式思考，若要印出p1.name，可以準確找到該格的Value\n",
    "print(p1) #若要印出一個object，但卻沒有定義要“怎麼印出”，就會印出對該物件的描述 \n"
   ]
  },
  {
   "cell_type": "code",
   "execution_count": 4,
   "id": "1bf39dcb",
   "metadata": {},
   "outputs": [
    {
     "name": "stdout",
     "output_type": "stream",
     "text": [
      "John 36\n",
      "['John', 'Amy', 'Dora']\n",
      "['manager', 'secretary', 'babyboss']\n",
      "2019\n"
     ]
    }
   ],
   "source": [
    "class Person:\n",
    "  def __init__(self, name, age, title):\n",
    "    self.name = name\n",
    "    self.age = age\n",
    "    self.title=title\n",
    "\n",
    "p1 = Person(\"John\",36,'manager')\n",
    "p2 = Person(\"Amy\",25, 'secretary')\n",
    "p3 = Person (\"Dora\",4, 'babyboss')\n",
    "\n",
    "print(p1.name,p1.age)\n",
    "ournames=[p1.name,p2.name,p3.name]\n",
    "ourjob=[p1.title,p2.title,p3.title]\n",
    "print(ournames)\n",
    "print(ourjob)\n",
    "p3.birthy=2019\n",
    "print(p3.birthy)"
   ]
  },
  {
   "cell_type": "code",
   "execution_count": 2,
   "id": "37568aed",
   "metadata": {},
   "outputs": [
    {
     "ename": "NameError",
     "evalue": "name 'p3' is not defined",
     "output_type": "error",
     "traceback": [
      "\u001b[0;31m---------------------------------------------------------------------------\u001b[0m",
      "\u001b[0;31mNameError\u001b[0m                                 Traceback (most recent call last)",
      "Cell \u001b[0;32mIn[2], line 1\u001b[0m\n\u001b[0;32m----> 1\u001b[0m p3\u001b[38;5;241m.\u001b[39mbirthy\u001b[38;5;241m=\u001b[39m\u001b[38;5;241m2019\u001b[39m\n\u001b[1;32m      2\u001b[0m \u001b[38;5;28mprint\u001b[39m(p1\u001b[38;5;241m.\u001b[39mbirthy,p3\u001b[38;5;241m.\u001b[39mbirthy)\n",
      "\u001b[0;31mNameError\u001b[0m: name 'p3' is not defined"
     ]
    }
   ],
   "source": [
    "p3.birthy=2019\n",
    "print(p1.birthy,p3.birthy)"
   ]
  },
  {
   "cell_type": "code",
   "execution_count": 32,
   "id": "bde43ed7",
   "metadata": {},
   "outputs": [
    {
     "name": "stdout",
     "output_type": "stream",
     "text": [
      "John\n",
      "hi, my name is John, 36 y.\n",
      "John(36)\n"
     ]
    },
    {
     "ename": "NameError",
     "evalue": "name 'p1' is not defined",
     "output_type": "error",
     "traceback": [
      "\u001b[0;31m---------------------------------------------------------------------------\u001b[0m",
      "\u001b[0;31mNameError\u001b[0m                                 Traceback (most recent call last)",
      "Cell \u001b[0;32mIn[32], line 18\u001b[0m\n\u001b[1;32m     16\u001b[0m \u001b[38;5;28mprint\u001b[39m(p1)\n\u001b[1;32m     17\u001b[0m \u001b[38;5;28;01mdel\u001b[39;00m p1\n\u001b[0;32m---> 18\u001b[0m \u001b[38;5;28mprint\u001b[39m(p1)\n",
      "\u001b[0;31mNameError\u001b[0m: name 'p1' is not defined"
     ]
    }
   ],
   "source": [
    "class Person:\n",
    "  def __init__(self, name, age):\n",
    "    #def陳述式是函式定義，須在執行前先定義完畢\n",
    "    #self只是一個變數，表示這個class的object，替換成其他變數也行\n",
    "    self.n = name\n",
    "    self.a = age\n",
    "    \n",
    "  def __str__(self):\n",
    "    return f\"{self.n}({self.a})\" \n",
    "    #之所以用{}是因為要傳回self.n:值，本質dict型別\n",
    "    #f-string是字串格式化的方式，也可用print(.format())\n",
    "p1 = Person(\"John\", 36)\n",
    "#print(p1.name) 錯誤：現在已經不認識“name”屬性了，因為他已經變成“n”\n",
    "print(p1.n)\n",
    "print(\"hi, my name is {}, {} y.\".format(p1.n,p1.a))\n",
    "print(p1)\n",
    "del p1\n",
    "print(p1)\n"
   ]
  },
  {
   "cell_type": "code",
   "execution_count": 30,
   "id": "0cdae65a",
   "metadata": {},
   "outputs": [
    {
     "name": "stdout",
     "output_type": "stream",
     "text": [
      "Hello my name is John and i'm 36 years old\n",
      "<__main__.Person object at 0x10b68cb50>\n",
      "<__main__.Person object at 0x10b68cb50>\n"
     ]
    }
   ],
   "source": [
    "class Person:\n",
    "  def __init__(self, name, age):\n",
    "    self.name = name\n",
    "    self.age = age\n",
    "\n",
    "  def myfunc(self):\n",
    "    print(\"Hello my name is \" + self.name + \\\n",
    "          \" and i'm {} years old\".format(self.age) )\n",
    "\n",
    "p1 = Person(\"John\", 36)\n",
    "p1.myfunc()\n",
    "print(p1)\n",
    "del p1.age\n",
    "print(p1)\n",
    " \n",
    "#呼叫資料最重要的是：從現有資料上找object的value"
   ]
  },
  {
   "cell_type": "code",
   "execution_count": null,
   "id": "b7d42085",
   "metadata": {},
   "outputs": [],
   "source": []
  }
 ],
 "metadata": {
  "kernelspec": {
   "display_name": "Python 3 (ipykernel)",
   "language": "python",
   "name": "python3"
  },
  "language_info": {
   "codemirror_mode": {
    "name": "ipython",
    "version": 3
   },
   "file_extension": ".py",
   "mimetype": "text/x-python",
   "name": "python",
   "nbconvert_exporter": "python",
   "pygments_lexer": "ipython3",
   "version": "3.11.4"
  }
 },
 "nbformat": 4,
 "nbformat_minor": 5
}
